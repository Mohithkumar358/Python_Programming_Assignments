{
 "cells": [
  {
   "cell_type": "code",
   "execution_count": 3,
   "metadata": {},
   "outputs": [
    {
     "name": "stdout",
     "output_type": "stream",
     "text": [
      "15\n"
     ]
    }
   ],
   "source": [
    "# 1.Programm to find sum of all the elements in a list\n",
    "l=[1,2,3,4,5]\n",
    "sum=0\n",
    "for i in l:\n",
    "    sum=sum+i\n",
    "print(sum)\n",
    "    "
   ]
  },
  {
   "cell_type": "code",
   "execution_count": 4,
   "metadata": {},
   "outputs": [
    {
     "name": "stdout",
     "output_type": "stream",
     "text": [
      "120\n"
     ]
    }
   ],
   "source": [
    "#2. Programm to multiply all the numbers in a list\n",
    "l=[1,2,3,4,5]\n",
    "mul=1\n",
    "for i in l:\n",
    "    mul=mul*i\n",
    "print(mul)"
   ]
  },
  {
   "cell_type": "code",
   "execution_count": 5,
   "metadata": {},
   "outputs": [
    {
     "data": {
      "text/plain": [
       "-43"
      ]
     },
     "execution_count": 5,
     "metadata": {},
     "output_type": "execute_result"
    }
   ],
   "source": [
    "#3. programm to find smallest number in the list\n",
    "l=[-3,24,-43,56,78,90,2,14,46]\n",
    "min(l)"
   ]
  },
  {
   "cell_type": "code",
   "execution_count": 6,
   "metadata": {},
   "outputs": [
    {
     "data": {
      "text/plain": [
       "54"
      ]
     },
     "execution_count": 6,
     "metadata": {},
     "output_type": "execute_result"
    }
   ],
   "source": [
    "#4. programm to find largest number in the list\n",
    "l=[1,4,6,8,9,46,7,5,54]\n",
    "max(l)"
   ]
  },
  {
   "cell_type": "code",
   "execution_count": 7,
   "metadata": {},
   "outputs": [
    {
     "name": "stdout",
     "output_type": "stream",
     "text": [
      "7\n"
     ]
    }
   ],
   "source": [
    "#5. Program to find second maximum number in the list\n",
    "l=[2,5,6,6,7,8,8]\n",
    "a=max(l)\n",
    "b=l.count(a)\n",
    "j=0\n",
    "while j<b:\n",
    "    l.remove(a)\n",
    "    j=j+1\n",
    "result=max(l)\n",
    "print(result)"
   ]
  },
  {
   "cell_type": "code",
   "execution_count": 5,
   "metadata": {},
   "outputs": [
    {
     "name": "stdout",
     "output_type": "stream",
     "text": [
      "3\n",
      "List containing 3 largest elements from the given list of elements is: [9, 8, 7]\n"
     ]
    }
   ],
   "source": [
    "#6. program to find N largest elements from a list\n",
    "l=[3,6,4,5,7,8,8,9,9]\n",
    "l1=[]\n",
    "n=int(input())\n",
    "for i in range(n):\n",
    "    l1.append(max(l))\n",
    "    a=l.count(max(l))\n",
    "    j=0\n",
    "    while j<a:\n",
    "        l.remove(max(l))\n",
    "        j=j+1\n",
    "print(\"List containing {} largest elements from the given list of elements is: {}\".format(n,l1))"
   ]
  },
  {
   "cell_type": "code",
   "execution_count": 8,
   "metadata": {},
   "outputs": [
    {
     "name": "stdout",
     "output_type": "stream",
     "text": [
      "2 4 34 56 66 "
     ]
    }
   ],
   "source": [
    "#7. Program to print even numbers in the list\n",
    "l=[0,2,4,5,7,67,34,56,79,31,66,79]\n",
    "for i in l:\n",
    "    if i!=0 and i%2==0:\n",
    "        print(i,end=\" \")"
   ]
  },
  {
   "cell_type": "code",
   "execution_count": 9,
   "metadata": {},
   "outputs": [
    {
     "name": "stdout",
     "output_type": "stream",
     "text": [
      "1 3 71 9 11 65 "
     ]
    }
   ],
   "source": [
    "#8. Program to print odd numbers in the list\n",
    "l=[0,1,3,24,56,66,71,82,9,11,65,78,90]\n",
    "for i in l:\n",
    "    if i!=0 and i%2!=0:\n",
    "        print(i,end=\" \")"
   ]
  },
  {
   "cell_type": "code",
   "execution_count": 19,
   "metadata": {},
   "outputs": [
    {
     "name": "stdout",
     "output_type": "stream",
     "text": [
      "[[1, 2, 33, 'MK', 1.56], 12, (4+6j), ['vb', 12, 67]]\n"
     ]
    }
   ],
   "source": [
    "#9. Program to remove empty lists from a list\n",
    "l=[[1,2,33,\"MK\",1.56],[],[],12,4+6j,[\"vb\",12,67]]\n",
    "for i in l:\n",
    "    if type(i)==list:\n",
    "        if len(i)==0:\n",
    "            a=l.count(i)\n",
    "            j=0\n",
    "            while j<a:\n",
    "                l.remove(i)\n",
    "                j=j+1\n",
    "print(l)"
   ]
  },
  {
   "cell_type": "code",
   "execution_count": 2,
   "metadata": {},
   "outputs": [
    {
     "name": "stdout",
     "output_type": "stream",
     "text": [
      "copied list=  [2, 3, 4, 5, 'Mohith', 8.7, 99]\n"
     ]
    }
   ],
   "source": [
    "#10. Programm to cloning or copying a list\n",
    "l=[2,3,4,5,\"Mohith\",8.7,99]\n",
    "copied_list=l.copy()\n",
    "print(\"copied list= \",copied_list)"
   ]
  },
  {
   "cell_type": "code",
   "execution_count": 21,
   "metadata": {},
   "outputs": [
    {
     "name": "stdout",
     "output_type": "stream",
     "text": [
      "Number of occurences of element 66 is 1\n",
      "Number of occurences of element 67 is 2\n",
      "Number of occurences of element 99 is 1\n",
      "Number of occurences of element 45 is 2\n",
      "Number of occurences of element 78 is 2\n",
      "Number of occurences of element 54 is 1\n",
      "Number of occurences of element 56 is 2\n",
      "Number of occurences of element 89 is 1\n"
     ]
    }
   ],
   "source": [
    "#11. programm to count occurences of an element in a list\n",
    "l1=[45,56,67,78,89,56,78,66,45,99,54,67]\n",
    "s=set(l1)\n",
    "for i in s:\n",
    "    result=l.count(i)\n",
    "    print(\"Number of occurences of element {} is {}\".format(i,result))"
   ]
  }
 ],
 "metadata": {
  "kernelspec": {
   "display_name": "Python 3",
   "language": "python",
   "name": "python3"
  },
  "language_info": {
   "codemirror_mode": {
    "name": "ipython",
    "version": 3
   },
   "file_extension": ".py",
   "mimetype": "text/x-python",
   "name": "python",
   "nbconvert_exporter": "python",
   "pygments_lexer": "ipython3",
   "version": "3.8.5"
  }
 },
 "nbformat": 4,
 "nbformat_minor": 4
}
