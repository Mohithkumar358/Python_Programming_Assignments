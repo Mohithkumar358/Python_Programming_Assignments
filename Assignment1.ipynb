{
 "cells": [
  {
   "cell_type": "code",
   "execution_count": 1,
   "metadata": {},
   "outputs": [
    {
     "name": "stdout",
     "output_type": "stream",
     "text": [
      "Hello Python\n"
     ]
    }
   ],
   "source": [
    "## 1.Printing Hello Python\n",
    "print(\"Hello Python\")"
   ]
  },
  {
   "cell_type": "code",
   "execution_count": 3,
   "metadata": {},
   "outputs": [
    {
     "name": "stdout",
     "output_type": "stream",
     "text": [
      "Enter the first number: 10\n",
      "Enter the second number: 5\n",
      "Addition = 15\n",
      "Division = 2.0\n"
     ]
    }
   ],
   "source": [
    "## 2. performing Addition and Division arithmetic opertaions\n",
    "a=int(input(\"Enter the first number: \"))\n",
    "b=int(input(\"Enter the second number: \"))\n",
    "print(\"Addition =\",a+b)\n",
    "print(\"Division =\",a/b)"
   ]
  },
  {
   "cell_type": "code",
   "execution_count": 10,
   "metadata": {},
   "outputs": [
    {
     "name": "stdout",
     "output_type": "stream",
     "text": [
      "Enter Base of the Triangle: 3\n",
      "Enter the Height of the Triangle: 5\n",
      "Area of the Triangle=  37.5\n"
     ]
    }
   ],
   "source": [
    "## 3. Finding the Area of the Triangle\n",
    "b=int(input(\"Enter Base of the Triangle: \"))\n",
    "h=int(input(\"Enter the Height of the Triangle: \"))\n",
    "Area =0.5*b*h**2\n",
    "print(\"Area of the Triangle= \",Area)"
   ]
  },
  {
   "cell_type": "code",
   "execution_count": 11,
   "metadata": {},
   "outputs": [
    {
     "name": "stdout",
     "output_type": "stream",
     "text": [
      "Enter the first number: 2\n",
      "Enter the second number: 3\n",
      "New value of x: 3\n",
      "New value of y: 2\n"
     ]
    }
   ],
   "source": [
    "## 4. Swapping two Variables\n",
    "x=int(input(\"Enter the first number: \"))\n",
    "y=int(input(\"Enter the second number: \"))\n",
    "temp=x\n",
    "x=y\n",
    "y=temp\n",
    "print(\"New value of x:\",x)\n",
    "print(\"New value of y:\",y)\n"
   ]
  },
  {
   "cell_type": "code",
   "execution_count": 9,
   "metadata": {},
   "outputs": [
    {
     "name": "stdout",
     "output_type": "stream",
     "text": [
      "Random Number: 0.7739053278706141\n"
     ]
    }
   ],
   "source": [
    "##Generating a Random number\n",
    "import random\n",
    "number=random.random()\n",
    "print(\"Random Number:\",number)"
   ]
  }
 ],
 "metadata": {
  "kernelspec": {
   "display_name": "Python 3",
   "language": "python",
   "name": "python3"
  },
  "language_info": {
   "codemirror_mode": {
    "name": "ipython",
    "version": 3
   },
   "file_extension": ".py",
   "mimetype": "text/x-python",
   "name": "python",
   "nbconvert_exporter": "python",
   "pygments_lexer": "ipython3",
   "version": "3.8.5"
  }
 },
 "nbformat": 4,
 "nbformat_minor": 4
}
