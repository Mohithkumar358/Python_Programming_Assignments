{
 "cells": [
  {
   "cell_type": "code",
   "execution_count": 3,
   "metadata": {},
   "outputs": [
    {
     "name": "stdout",
     "output_type": "stream",
     "text": [
      "Enter the distance in Kilometers: 10\n",
      "Distance in Miles: 6.2137119\n"
     ]
    }
   ],
   "source": [
    "# 1. converting Kilometers to Miles\n",
    "D=int(input(\"Enter the distance in Kilometers: \"))\n",
    "M=D*0.62137119\n",
    "print(\"Distance in Miles:\",M)"
   ]
  },
  {
   "cell_type": "code",
   "execution_count": 16,
   "metadata": {},
   "outputs": [
    {
     "name": "stdout",
     "output_type": "stream",
     "text": [
      "Enter the Temperature in degrees Celsius: 25\n",
      "Temperature in degrees Fahrenheit =  77.0\n"
     ]
    }
   ],
   "source": [
    "# 2. converting Celsius to Fahrenheit\n",
    "C=int(input(\"Enter the Temperature in degrees Celsius: \"))\n",
    "F=(1.8*C)+32\n",
    "print(\"Temperature in degrees Fahrenheit = \",F)"
   ]
  },
  {
   "cell_type": "code",
   "execution_count": 3,
   "metadata": {},
   "outputs": [
    {
     "name": "stdout",
     "output_type": "stream",
     "text": [
      "Enter the year: 2021\n",
      "                                  2021\n",
      "\n",
      "      January                   February                   March\n",
      "Mo Tu We Th Fr Sa Su      Mo Tu We Th Fr Sa Su      Mo Tu We Th Fr Sa Su\n",
      "             1  2  3       1  2  3  4  5  6  7       1  2  3  4  5  6  7\n",
      " 4  5  6  7  8  9 10       8  9 10 11 12 13 14       8  9 10 11 12 13 14\n",
      "11 12 13 14 15 16 17      15 16 17 18 19 20 21      15 16 17 18 19 20 21\n",
      "18 19 20 21 22 23 24      22 23 24 25 26 27 28      22 23 24 25 26 27 28\n",
      "25 26 27 28 29 30 31                                29 30 31\n",
      "\n",
      "       April                      May                       June\n",
      "Mo Tu We Th Fr Sa Su      Mo Tu We Th Fr Sa Su      Mo Tu We Th Fr Sa Su\n",
      "          1  2  3  4                      1  2          1  2  3  4  5  6\n",
      " 5  6  7  8  9 10 11       3  4  5  6  7  8  9       7  8  9 10 11 12 13\n",
      "12 13 14 15 16 17 18      10 11 12 13 14 15 16      14 15 16 17 18 19 20\n",
      "19 20 21 22 23 24 25      17 18 19 20 21 22 23      21 22 23 24 25 26 27\n",
      "26 27 28 29 30            24 25 26 27 28 29 30      28 29 30\n",
      "                          31\n",
      "\n",
      "        July                     August                  September\n",
      "Mo Tu We Th Fr Sa Su      Mo Tu We Th Fr Sa Su      Mo Tu We Th Fr Sa Su\n",
      "          1  2  3  4                         1             1  2  3  4  5\n",
      " 5  6  7  8  9 10 11       2  3  4  5  6  7  8       6  7  8  9 10 11 12\n",
      "12 13 14 15 16 17 18       9 10 11 12 13 14 15      13 14 15 16 17 18 19\n",
      "19 20 21 22 23 24 25      16 17 18 19 20 21 22      20 21 22 23 24 25 26\n",
      "26 27 28 29 30 31         23 24 25 26 27 28 29      27 28 29 30\n",
      "                          30 31\n",
      "\n",
      "      October                   November                  December\n",
      "Mo Tu We Th Fr Sa Su      Mo Tu We Th Fr Sa Su      Mo Tu We Th Fr Sa Su\n",
      "             1  2  3       1  2  3  4  5  6  7             1  2  3  4  5\n",
      " 4  5  6  7  8  9 10       8  9 10 11 12 13 14       6  7  8  9 10 11 12\n",
      "11 12 13 14 15 16 17      15 16 17 18 19 20 21      13 14 15 16 17 18 19\n",
      "18 19 20 21 22 23 24      22 23 24 25 26 27 28      20 21 22 23 24 25 26\n",
      "25 26 27 28 29 30 31      29 30                     27 28 29 30 31\n",
      "\n",
      "Enter the number of the month which you want to display in  the above year: 3\n",
      "     March 2021\n",
      "Mo Tu We Th Fr Sa Su\n",
      " 1  2  3  4  5  6  7\n",
      " 8  9 10 11 12 13 14\n",
      "15 16 17 18 19 20 21\n",
      "22 23 24 25 26 27 28\n",
      "29 30 31\n",
      "\n",
      "Enter the date for which you want to know the weekday: 31\n",
      "2\n"
     ]
    }
   ],
   "source": [
    "##3. Programm to display calendar \n",
    "import calendar\n",
    "year=int(input(\"Enter the year: \"))\n",
    "print(calendar.calendar(year))\n",
    "month=int(input(\"Enter the number of the month which you want to display in  the above year: \"))\n",
    "print(calendar.month(year,month))\n",
    "date=int(input(\"Enter the date for which you want to know the weekday: \"))\n",
    "print(calendar.weekday(year,month,date))"
   ]
  },
  {
   "cell_type": "code",
   "execution_count": 23,
   "metadata": {},
   "outputs": [
    {
     "name": "stdout",
     "output_type": "stream",
     "text": [
      "Enter the coefficient of x^2: 1\n",
      "Enter the coefficient of x^1: 2\n",
      "Enter the constant term: 1\n",
      "The roots are real and both are equal\n",
      "The roots of the Quadratic equation are: \n",
      "-1.0\n",
      "-1.0\n"
     ]
    }
   ],
   "source": [
    "#4. Program to solve Quadratic Equation\n",
    "a=int(input(\"Enter the coefficient of x^2: \"))\n",
    "b=int(input(\"Enter the coefficient of x^1: \"))\n",
    "c=int(input(\"Enter the constant term: \"))\n",
    "x1=(-b+(b*b-4*a*c)**0.5)/(2*a)\n",
    "x2=(-b+(b*b-4*a*c)**0.5)/(2*a)\n",
    "if(b*b>4*a*c):\n",
    "    print(\"The roots are real and distinct\")\n",
    "if(b*b==4*a*c):\n",
    "    print(\"The roots are real and both are equal\")\n",
    "if(b*b<4*a*c):\n",
    "    print(\"The roots are complex\")\n",
    "print(\"The roots of the Quadratic equation are: \")\n",
    "print(x1)\n",
    "print(x2)"
   ]
  },
  {
   "cell_type": "code",
   "execution_count": 22,
   "metadata": {},
   "outputs": [
    {
     "name": "stdout",
     "output_type": "stream",
     "text": [
      "x = 2\n",
      "y = 3\n",
      "New value of x=  3\n",
      "New value of y=  2\n"
     ]
    }
   ],
   "source": [
    "#5. swapping two variables without temp variable\n",
    "x=int(input(\"x = \"))\n",
    "y=int(input(\"y = \"))\n",
    "x,y=y,x\n",
    "print(\"New value of x= \",x)\n",
    "print(\"New value of y= \",y)"
   ]
  }
 ],
 "metadata": {
  "kernelspec": {
   "display_name": "Python 3",
   "language": "python",
   "name": "python3"
  },
  "language_info": {
   "codemirror_mode": {
    "name": "ipython",
    "version": 3
   },
   "file_extension": ".py",
   "mimetype": "text/x-python",
   "name": "python",
   "nbconvert_exporter": "python",
   "pygments_lexer": "ipython3",
   "version": "3.8.5"
  }
 },
 "nbformat": 4,
 "nbformat_minor": 4
}
