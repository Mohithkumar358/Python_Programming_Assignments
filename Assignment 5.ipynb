{
 "cells": [
  {
   "cell_type": "code",
   "execution_count": 5,
   "metadata": {},
   "outputs": [
    {
     "name": "stdout",
     "output_type": "stream",
     "text": [
      "12\n",
      "18\n",
      "LCM of given two numbers is 36\n"
     ]
    }
   ],
   "source": [
    "#1. Programm to find LCM of two numbers\n",
    "a=int(input())\n",
    "b=int(input())\n",
    "if a>0 and b>0:\n",
    "    for i in range(max(a,b),a*b+1):\n",
    "        if i%a==0 and i%b==0:\n",
    "            print(\"LCM of given two numbers is\",i)\n",
    "            break"
   ]
  },
  {
   "cell_type": "code",
   "execution_count": 6,
   "metadata": {},
   "outputs": [
    {
     "name": "stdout",
     "output_type": "stream",
     "text": [
      "12\n",
      "18\n",
      "HCF of given two numbers is 6\n"
     ]
    }
   ],
   "source": [
    "#2. Program to find HCF of two numbers:\n",
    "a=int(input())\n",
    "b=int(input())\n",
    "if a>0 and b>0:\n",
    "    while(True):\n",
    "        if (b==0):\n",
    "            break\n",
    "        temp=a\n",
    "        a=b\n",
    "        b=temp%b\n",
    "    \n",
    "print(\"HCF of given two numbers is\",a)"
   ]
  },
  {
   "cell_type": "code",
   "execution_count": 6,
   "metadata": {},
   "outputs": [
    {
     "name": "stdout",
     "output_type": "stream",
     "text": [
      "Enter a Decimal number:141\n",
      "conversion of decimal number to Binary number is  0b10001101\n",
      "conversion of decimal number to Octal number is  0o215\n",
      "conversion of decimal number to Hexadecimal number is  0x8d\n"
     ]
    }
   ],
   "source": [
    "#3. Program to Convert Decimal to Binary, Octal and Hexadecimal\n",
    "n=int(input(\"Enter a Decimal number:\"))\n",
    "print(\"conversion of decimal number to Binary number is \",bin(n))\n",
    "print(\"conversion of decimal number to Octal number is \",oct(n))\n",
    "print(\"conversion of decimal number to Hexadecimal number is \",hex(n))"
   ]
  },
  {
   "cell_type": "code",
   "execution_count": 8,
   "metadata": {},
   "outputs": [
    {
     "name": "stdout",
     "output_type": "stream",
     "text": [
      "Enter a charecter: D\n",
      "The ASCII value of the charecter D is 68\n"
     ]
    }
   ],
   "source": [
    "#4. Program To Find ASCII value of a character\n",
    "char=input(\"Enter a charecter: \")\n",
    "print(\"The ASCII value of the charecter {} is {}\".format(char,ord(char)))"
   ]
  },
  {
   "cell_type": "code",
   "execution_count": null,
   "metadata": {},
   "outputs": [],
   "source": [
    "#5. Program to Make a Simple Calculator with 4 basic mathematical operations\n",
    "a=int(input(\"Enter a number: \"))\n",
    "b=int(input(\"Enter another number: \"))\n",
    "print(\"Addition of the given two numbers is \",a+b)\n",
    "print(\"Substraction of the given two numbers is \",a-b)\n",
    "print(\"Multiplication of the given two numbers is \",a*b)\n",
    "print(\"Division of the given two numbers is \",a/b)"
   ]
  }
 ],
 "metadata": {
  "kernelspec": {
   "display_name": "Python 3",
   "language": "python",
   "name": "python3"
  },
  "language_info": {
   "codemirror_mode": {
    "name": "ipython",
    "version": 3
   },
   "file_extension": ".py",
   "mimetype": "text/x-python",
   "name": "python",
   "nbconvert_exporter": "python",
   "pygments_lexer": "ipython3",
   "version": "3.8.5"
  }
 },
 "nbformat": 4,
 "nbformat_minor": 4
}
