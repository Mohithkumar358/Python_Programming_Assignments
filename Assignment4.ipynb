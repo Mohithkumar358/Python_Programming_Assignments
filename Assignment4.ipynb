{
 "cells": [
  {
   "cell_type": "code",
   "execution_count": 3,
   "metadata": {},
   "outputs": [
    {
     "name": "stdout",
     "output_type": "stream",
     "text": [
      "Enter a number: 5\n",
      "Factorial of the number is  120\n"
     ]
    }
   ],
   "source": [
    "#1. Program to find the Factorial of a number\n",
    "n=int(input(\"Enter a number: \"))\n",
    "fact=n\n",
    "for i in range(n-1,1,-1):\n",
    "    fact=fact*i\n",
    "print(\"Factorial of the number is \",fact)"
   ]
  },
  {
   "cell_type": "code",
   "execution_count": 4,
   "metadata": {},
   "outputs": [
    {
     "name": "stdout",
     "output_type": "stream",
     "text": [
      "Enter the number for which Multiplication to be displayed: 5\n",
      "5 x 1 = 5\n",
      "5 x 2 = 10\n",
      "5 x 3 = 15\n",
      "5 x 4 = 20\n",
      "5 x 5 = 25\n",
      "5 x 6 = 30\n",
      "5 x 7 = 35\n",
      "5 x 8 = 40\n",
      "5 x 9 = 45\n",
      "5 x 10 = 50\n",
      "5 x 11 = 55\n",
      "5 x 12 = 60\n",
      "5 x 13 = 65\n",
      "5 x 14 = 70\n",
      "5 x 15 = 75\n",
      "5 x 16 = 80\n",
      "5 x 17 = 85\n",
      "5 x 18 = 90\n",
      "5 x 19 = 95\n",
      "5 x 20 = 100\n"
     ]
    }
   ],
   "source": [
    "#2. Program to display the Multiplication Table\n",
    "n=int(input(\"Enter the number for which Multiplication to be displayed: \"))\n",
    "for i in range(1,21):\n",
    "    print(\"{} x {} = {}\".format(n,i,i*n))\n"
   ]
  },
  {
   "cell_type": "code",
   "execution_count": 9,
   "metadata": {},
   "outputs": [
    {
     "name": "stdout",
     "output_type": "stream",
     "text": [
      "Enter the number of terms in the series: 10\n",
      "Fibonacci series: \n",
      "0 1 1 2 3 5 8 13 21 34 "
     ]
    }
   ],
   "source": [
    "#3. Program to Print the Fibonacci sequence\n",
    "n=int(input(\"Enter the number of terms in the series: \"))\n",
    "i=0\n",
    "temp1=0\n",
    "sum=1\n",
    "while i<n:\n",
    "    if i==0:\n",
    "        print(\"Fibonacci series: \")\n",
    "        print(temp1,end=\" \")\n",
    "    else:\n",
    "        print(sum,end=\" \")\n",
    "        temp2=sum\n",
    "        sum=sum+temp1\n",
    "        temp1=temp2\n",
    "    i=i+1\n"
   ]
  },
  {
   "cell_type": "code",
   "execution_count": 19,
   "metadata": {},
   "outputs": [
    {
     "name": "stdout",
     "output_type": "stream",
     "text": [
      "Enter a number: 153\n",
      "153 is an Armstrong number\n"
     ]
    }
   ],
   "source": [
    "#4. Program to Check Armstrong Number\n",
    "n=int(input(\"Enter a number: \"))\n",
    "temp=n\n",
    "l=len(str(n))\n",
    "sum=0\n",
    "while temp>0:\n",
    "    digit=temp%10\n",
    "    sum=sum+digit**l\n",
    "    temp=temp//10\n",
    "if n==sum:\n",
    "    print(n,\"is an Armstrong number\")\n",
    "else:\n",
    "    print(n,\"is not an Armstrong number\")\n",
    "    "
   ]
  },
  {
   "cell_type": "code",
   "execution_count": 23,
   "metadata": {},
   "outputs": [
    {
     "name": "stdout",
     "output_type": "stream",
     "text": [
      "0 1 2 3 4 5 6 7 8 9 153 370 371 407 1634 8208 9474 "
     ]
    }
   ],
   "source": [
    "#5. Program to Find Armstrong Number in an Interval\n",
    "for n in range(0,10000):\n",
    "    temp=n\n",
    "    l=len(str(n))\n",
    "    sum=0\n",
    "    while temp>0:\n",
    "        digit=temp%10\n",
    "        sum=sum+digit**l\n",
    "        temp=temp//10\n",
    "    if n==sum:\n",
    "        print(n,end=\" \")\n",
    "\n"
   ]
  },
  {
   "cell_type": "code",
   "execution_count": 24,
   "metadata": {},
   "outputs": [
    {
     "name": "stdout",
     "output_type": "stream",
     "text": [
      "10\n",
      "Sum of Natural numbers from 1 to 10 is 55\n"
     ]
    }
   ],
   "source": [
    "#6. Program to Find the Sum of Natural Numbers\n",
    "n=int(input())\n",
    "sum=n\n",
    "for i in range(1,n):\n",
    "    sum=sum+i\n",
    "print(\"Sum of Natural numbers from 1 to {} is {}\".format(n,sum))"
   ]
  }
 ],
 "metadata": {
  "kernelspec": {
   "display_name": "Python 3",
   "language": "python",
   "name": "python3"
  },
  "language_info": {
   "codemirror_mode": {
    "name": "ipython",
    "version": 3
   },
   "file_extension": ".py",
   "mimetype": "text/x-python",
   "name": "python",
   "nbconvert_exporter": "python",
   "pygments_lexer": "ipython3",
   "version": "3.8.5"
  }
 },
 "nbformat": 4,
 "nbformat_minor": 4
}
