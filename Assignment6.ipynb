{
 "cells": [
  {
   "cell_type": "code",
   "execution_count": 6,
   "metadata": {},
   "outputs": [
    {
     "name": "stdout",
     "output_type": "stream",
     "text": [
      "Enter the number of terms required in the sequence:9\n",
      "term 1 : 0\n",
      "term 2 : 1\n",
      "term 3 : 1\n",
      "term 4 : 2\n",
      "term 5 : 3\n",
      "term 6 : 5\n",
      "term 7 : 8\n",
      "term 8 : 13\n",
      "term 9 : 21\n"
     ]
    }
   ],
   "source": [
    "#1. Programm to display Fibonacci sequence using recursion\n",
    "def fibonacci(n):\n",
    "    if n==1:\n",
    "        return 0\n",
    "    elif n==2:\n",
    "        return 1\n",
    "    else:\n",
    "        return (fibonacci(n-1)+fibonacci(n-2))\n",
    "num=int(input(\"Enter the number of terms required in the sequence:\"))\n",
    "if num<=0:\n",
    "    print(\"Enter a positive integer\")\n",
    "for i in range(1,num+1):\n",
    "    print(\"term\",i,\":\", fibonacci(i))\n",
    "    "
   ]
  },
  {
   "cell_type": "code",
   "execution_count": 7,
   "metadata": {},
   "outputs": [
    {
     "name": "stdout",
     "output_type": "stream",
     "text": [
      "Enter a number:5\n",
      "factorial of the number is 120\n"
     ]
    }
   ],
   "source": [
    "#2. Program to Find Factorial of Number Using Recursion\n",
    "def factorial(n):\n",
    "     if n==0:\n",
    "        return 1\n",
    "     else:\n",
    "        return n*factorial(n-1)\n",
    "num=int(input(\"Enter a number:\"))\n",
    "if num<0:\n",
    "    print(\"Factorial does not exist for negative numbers\")\n",
    "else:\n",
    "    print(\"factorial of the number is\",num*factorial(num-1))"
   ]
  },
  {
   "cell_type": "code",
   "execution_count": 14,
   "metadata": {},
   "outputs": [
    {
     "name": "stdout",
     "output_type": "stream",
     "text": [
      "Enter your Height in meters: 1.72\n",
      "Enter your weight in Kgs: 58\n",
      "Body mass index is 19.60519199567334 and it indicates  healthy\n"
     ]
    }
   ],
   "source": [
    "# 3. Program to calculate Body Mass Index\n",
    "height=float(input(\"Enter your Height in meters: \"))\n",
    "weight=float(input(\"Enter your weight in Kgs: \"))\n",
    "BMI=weight/(height**2)\n",
    "print(\"Body mass index is {} and it indicates \".format(BMI),end=\" \")\n",
    "if BMI<16:\n",
    "    print(\"severely underweight\")\n",
    "elif BMI<18.5:\n",
    "    print(\"underweight\")\n",
    "elif BMI<25:\n",
    "    print(\"healthy\")\n",
    "elif BMI<30:\n",
    "    print(\"overweight\")\n",
    "else:\n",
    "    print(\"obesity\")"
   ]
  },
  {
   "cell_type": "code",
   "execution_count": 24,
   "metadata": {},
   "outputs": [
    {
     "name": "stdout",
     "output_type": "stream",
     "text": [
      "Enter a number: 5\n",
      "Natural logarithm of 5 is 1.6094379124341003\n"
     ]
    }
   ],
   "source": [
    "#4. program to find Natural logarithm of a number\n",
    "import math\n",
    "n=int(input(\"Enter a number: \"))\n",
    "x=math.log(n)\n",
    "print(\"Natural logarithm of {} is {}\".format(n,x))"
   ]
  },
  {
   "cell_type": "code",
   "execution_count": 30,
   "metadata": {},
   "outputs": [
    {
     "name": "stdout",
     "output_type": "stream",
     "text": [
      "Enter the last number :6\n",
      "441\n"
     ]
    }
   ],
   "source": [
    "#5. program to solve sum of cube of first n natural numbers\n",
    "n=int(input(\"Enter the last number :\"))\n",
    "sum=0\n",
    "for i in range(1,n+1):\n",
    "    sum=sum+i**3\n",
    "print(sum)"
   ]
  }
 ],
 "metadata": {
  "kernelspec": {
   "display_name": "Python 3",
   "language": "python",
   "name": "python3"
  },
  "language_info": {
   "codemirror_mode": {
    "name": "ipython",
    "version": 3
   },
   "file_extension": ".py",
   "mimetype": "text/x-python",
   "name": "python",
   "nbconvert_exporter": "python",
   "pygments_lexer": "ipython3",
   "version": "3.8.5"
  }
 },
 "nbformat": 4,
 "nbformat_minor": 4
}
